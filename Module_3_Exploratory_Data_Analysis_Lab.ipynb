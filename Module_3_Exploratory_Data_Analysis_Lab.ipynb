{
  "metadata": {
    "kernelspec": {
      "name": "python",
      "display_name": "Python (Pyodide)",
      "language": "python"
    },
    "language_info": {
      "codemirror_mode": {
        "name": "python",
        "version": 3
      },
      "file_extension": ".py",
      "mimetype": "text/x-python",
      "name": "python",
      "nbconvert_exporter": "python",
      "pygments_lexer": "ipython3",
      "version": "3.8"
    },
    "prev_pub_hash": "079bf8854a4255688941af2bd371b587b1f25737b4330b6346f5799c6c867e75",
    "colab": {
      "provenance": []
    }
  },
  "nbformat_minor": 0,
  "nbformat": 4,
  "cells": [
    {
      "cell_type": "markdown",
      "source": [
        "<p style=\"text-align:center\">\n",
        "    <a href=\"https://skills.network\" target=\"_blank\">\n",
        "    <img src=\"https://cf-courses-data.s3.us.cloud-object-storage.appdomain.cloud/assets/logos/SN_web_lightmode.png\" width=\"380\" alt=\"Skills Network Logo\">\n",
        "    </a>\n",
        "</p>\n"
      ],
      "metadata": {
        "id": "xoW2k1SowvzQ"
      }
    },
    {
      "cell_type": "markdown",
      "source": [
        "# **Exploratory Data Analysis Lab**\n"
      ],
      "metadata": {
        "id": "-f9P4j7kwvzS"
      }
    },
    {
      "cell_type": "markdown",
      "source": [
        "Estimated time needed: **30** minutes\n"
      ],
      "metadata": {
        "id": "cKMtMBmDwvzS"
      }
    },
    {
      "cell_type": "markdown",
      "source": [
        "In this module you get to work with the cleaned dataset from the previous module.\n",
        "\n",
        "In this assignment you will perform the task of exploratory data analysis.\n",
        "You will find out the distribution of data, presence of outliers and also determine the correlation between different columns in the dataset.\n"
      ],
      "metadata": {
        "id": "7nqgMH5uwvzT"
      }
    },
    {
      "cell_type": "markdown",
      "source": [
        "## Objectives\n"
      ],
      "metadata": {
        "id": "YokQ1ZX8wvzT"
      }
    },
    {
      "cell_type": "markdown",
      "source": [
        "In this lab you will perform the following:\n"
      ],
      "metadata": {
        "id": "39Q8NSn5wvzT"
      }
    },
    {
      "cell_type": "markdown",
      "source": [
        "-   Identify the distribution of data in the dataset.\n",
        "\n",
        "-   Identify outliers in the dataset.\n",
        "\n",
        "-   Remove outliers from the dataset.\n",
        "\n",
        "-   Identify correlation between features in the dataset.\n"
      ],
      "metadata": {
        "id": "Cx1bddhQwvzU"
      }
    },
    {
      "cell_type": "markdown",
      "source": [
        "* * *\n"
      ],
      "metadata": {
        "id": "EehURckMwvzU"
      }
    },
    {
      "cell_type": "markdown",
      "source": [
        "## Hands on Lab\n"
      ],
      "metadata": {
        "id": "5pww8vbhwvzV"
      }
    },
    {
      "cell_type": "markdown",
      "source": [
        "Import the pandas module.\n"
      ],
      "metadata": {
        "id": "vsGP5PNNwvzV"
      }
    },
    {
      "cell_type": "code",
      "source": [
        "import numpy as np\n",
        "import piplite\n",
        "await piplite.install('seaborn')\n",
        "\n",
        "import pandas as pd"
      ],
      "metadata": {
        "trusted": true,
        "id": "3nHrDhF6wvzW",
        "outputId": "4819abbb-20ca-490b-f324-7beb674bced7"
      },
      "outputs": [
        {
          "name": "stderr",
          "text": "<ipython-input-1-f3d379694c12>:5: DeprecationWarning: \nPyarrow will become a required dependency of pandas in the next major release of pandas (pandas 3.0),\n(to allow more performant data types, such as the Arrow string type, and better interoperability with other libraries)\nbut was not found to be installed on your system.\nIf this would cause problems for you,\nplease provide us feedback at https://github.com/pandas-dev/pandas/issues/54466\n        \n  import pandas as pd\n",
          "output_type": "stream"
        }
      ],
      "execution_count": null
    },
    {
      "cell_type": "markdown",
      "source": [
        "Load the dataset into a dataframe.\n"
      ],
      "metadata": {
        "id": "JXLdM3PnwvzY"
      }
    },
    {
      "cell_type": "markdown",
      "source": [
        "<h2>Read Data</h2>\n",
        "<p>\n",
        "We utilize the <code>pandas.read_csv()</code> function for reading CSV files. However, in this version of the lab, which operates on JupyterLite, the dataset needs to be downloaded to the interface using the provided code below.\n",
        "</p>\n"
      ],
      "metadata": {
        "id": "7KvkIltXwvzY"
      }
    },
    {
      "cell_type": "markdown",
      "source": [
        "The functions below will download the dataset into your browser:\n"
      ],
      "metadata": {
        "id": "A06-mwOqwvzY"
      }
    },
    {
      "cell_type": "code",
      "source": [
        "from pyodide.http import pyfetch\n",
        "\n",
        "async def download(url, filename):\n",
        "    response = await pyfetch(url)\n",
        "    if response.status == 200:\n",
        "        with open(filename, \"wb\") as f:\n",
        "            f.write(await response.bytes())"
      ],
      "metadata": {
        "trusted": true,
        "id": "qDgRm90LwvzZ"
      },
      "outputs": [],
      "execution_count": null
    },
    {
      "cell_type": "code",
      "source": [
        "file_path = \"https://cf-courses-data.s3.us.cloud-object-storage.appdomain.cloud/IBM-DA0321EN-SkillsNetwork/LargeData/m2_survey_data.csv\""
      ],
      "metadata": {
        "trusted": true,
        "id": "Q1fnPJK4wvzZ"
      },
      "outputs": [],
      "execution_count": null
    },
    {
      "cell_type": "markdown",
      "source": [
        "To obtain the dataset, utilize the download() function as defined above:  \n"
      ],
      "metadata": {
        "id": "nEeEmpEmwvzZ"
      }
    },
    {
      "cell_type": "code",
      "source": [
        "await download(file_path, \"m2_survey_data.csv\")\n",
        "file_name=\"m2_survey_data.csv\""
      ],
      "metadata": {
        "trusted": true,
        "id": "SHgq1JSgwvza"
      },
      "outputs": [],
      "execution_count": null
    },
    {
      "cell_type": "markdown",
      "source": [
        "Utilize the Pandas method read_csv() to load the data into a dataframe.\n"
      ],
      "metadata": {
        "id": "H3x2f2sUwvza"
      }
    },
    {
      "cell_type": "code",
      "source": [
        "df = pd.read_csv(file_name)"
      ],
      "metadata": {
        "trusted": true,
        "id": "BEWur0LBwvza"
      },
      "outputs": [],
      "execution_count": null
    },
    {
      "cell_type": "markdown",
      "source": [
        "> Note: This version of the lab is working on JupyterLite, which requires the dataset to be downloaded to the interface.While working on the downloaded version of this notebook on their local machines(Jupyter Anaconda), the learners can simply **skip the steps above,** and simply use the URL directly in the `pandas.read_csv()` function. You can uncomment and run the statements in the cell below.\n"
      ],
      "metadata": {
        "id": "JquszmLNwvza"
      }
    },
    {
      "cell_type": "code",
      "source": [
        "#df = pd.read_csv(\"https://cf-courses-data.s3.us.cloud-object-storage.appdomain.cloud/IBM-DA0321EN-SkillsNetwork/LargeData/m2_survey_data.csv\")"
      ],
      "metadata": {
        "id": "ikJMzBIFwvza"
      },
      "outputs": [],
      "execution_count": null
    },
    {
      "cell_type": "markdown",
      "source": [
        "## Distribution\n"
      ],
      "metadata": {
        "id": "EiZPn-1mwvzb"
      }
    },
    {
      "cell_type": "markdown",
      "source": [
        "### Determine how the data is distributed\n"
      ],
      "metadata": {
        "id": "964AIB-_wvzb"
      }
    },
    {
      "cell_type": "markdown",
      "source": [
        "The column `ConvertedComp` contains Salary converted to annual USD salaries using the exchange rate on 2019-02-01.\n",
        "\n",
        "This assumes 12 working months and 50 working weeks.\n"
      ],
      "metadata": {
        "id": "70rDm0nLwvzb"
      }
    },
    {
      "cell_type": "markdown",
      "source": [
        "Plot the distribution curve for the column `ConvertedComp`.\n"
      ],
      "metadata": {
        "id": "1nAI7AuVwvzb"
      }
    },
    {
      "cell_type": "code",
      "source": [
        "# your code goes here\n",
        "import seaborn as sns\n",
        "import matplotlib.pyplot as plt\n",
        "%matplotlib inline\n",
        "\n",
        "#data = sns.load_dataset(df)\n",
        "sns.displot(df['ConvertedComp'], kind='kde')\n"
      ],
      "metadata": {
        "trusted": true,
        "id": "NqJ9N-uywvzc",
        "outputId": "55e6dc7d-9d6e-4f60-f7bf-0859bffd5d01"
      },
      "outputs": [
        {
          "execution_count": 6,
          "output_type": "execute_result",
          "data": {
            "text/plain": "<seaborn.axisgrid.FacetGrid at 0x90c8c40>"
          },
          "metadata": {}
        },
        {
          "output_type": "display_data",
          "data": {
            "text/plain": "<Figure size 500x500 with 1 Axes>",
            "image/png": "[encoded data removed]"
          },
          "metadata": {}
        }
      ],
      "execution_count": null
    },
    {
      "cell_type": "markdown",
      "source": [
        "Plot the histogram for the column `ConvertedComp`.\n"
      ],
      "metadata": {
        "id": "XRa1UyiRwvzc"
      }
    },
    {
      "cell_type": "code",
      "source": [
        "# your code goes here\n",
        "#sns.displot(df['ConvertedComp'], kind='hist')\n",
        "plt.hist(df['ConvertedComp'])\n",
        "plt.xlabel('Salary Converted')\n",
        "plt.ylabel('Count')\n",
        "plt.title('Histogram for the column ConvertedComp')"
      ],
      "metadata": {
        "trusted": true,
        "id": "j4geztEUwvzc",
        "outputId": "883eb385-d642-4135-8415-b9789a736fb5"
      },
      "outputs": [
        {
          "execution_count": 19,
          "output_type": "execute_result",
          "data": {
            "text/plain": "Text(0.5, 1.0, 'Histogram for the column ConvertedComp')"
          },
          "metadata": {}
        },
        {
          "output_type": "display_data",
          "data": {
            "text/plain": "<Figure size 640x480 with 1 Axes>",
            "image/png": "[encoded data removed]"
          },
          "metadata": {}
        }
      ],
      "execution_count": null
    },
    {
      "cell_type": "markdown",
      "source": [
        "What is the median of the column `ConvertedComp`?\n"
      ],
      "metadata": {
        "id": "eKdeE_Bvwvzd"
      }
    },
    {
      "cell_type": "code",
      "source": [
        "# your code goes here\n",
        "df['ConvertedComp'].median()\n",
        "#df['Age'].median()\n",
        "\n"
      ],
      "metadata": {
        "trusted": true,
        "id": "OMM0B85iwvzd",
        "outputId": "be5707f7-490e-4900-b39a-9e0921091a13"
      },
      "outputs": [
        {
          "execution_count": 45,
          "output_type": "execute_result",
          "data": {
            "text/plain": "57745.0"
          },
          "metadata": {}
        }
      ],
      "execution_count": null
    },
    {
      "cell_type": "markdown",
      "source": [
        "How many responders identified themselves only as a **Man**?\n"
      ],
      "metadata": {
        "id": "G2w91lWZwvzd"
      }
    },
    {
      "cell_type": "code",
      "source": [
        "# your code goes here\n",
        "df['Gender'].value_counts()"
      ],
      "metadata": {
        "trusted": true,
        "id": "FxMOlMeIwvzd",
        "outputId": "b73b0cf2-52d6-4b8d-eafd-9643910cc647"
      },
      "outputs": [
        {
          "execution_count": 10,
          "output_type": "execute_result",
          "data": {
            "text/plain": "Gender\nMan                                                            10480\nWoman                                                            731\nNon-binary, genderqueer, or gender non-conforming                 63\nMan;Non-binary, genderqueer, or gender non-conforming             26\nWoman;Non-binary, genderqueer, or gender non-conforming           14\nWoman;Man                                                          9\nWoman;Man;Non-binary, genderqueer, or gender non-conforming        2\nName: count, dtype: int64"
          },
          "metadata": {}
        }
      ],
      "execution_count": null
    },
    {
      "cell_type": "markdown",
      "source": [
        "Find out the  median ConvertedComp of responders identified themselves only as a **Woman**?\n"
      ],
      "metadata": {
        "id": "36oKUwcewvze"
      }
    },
    {
      "cell_type": "code",
      "source": [
        "# your code goes here\n",
        "df['ConvertedComp'][(df.Gender=='Woman')].median()"
      ],
      "metadata": {
        "trusted": true,
        "id": "BJ1N2pICwvze",
        "outputId": "425a5692-1ebd-4ae4-9c69-dfc6bfcbbc86"
      },
      "outputs": [
        {
          "execution_count": 12,
          "output_type": "execute_result",
          "data": {
            "text/plain": "57708.0"
          },
          "metadata": {}
        }
      ],
      "execution_count": null
    },
    {
      "cell_type": "markdown",
      "source": [
        "Give the five number summary for the column `Age`?\n"
      ],
      "metadata": {
        "id": "64BWIcPGwvzf"
      }
    },
    {
      "cell_type": "markdown",
      "source": [
        "**Double click here for hint**.\n",
        "\n",
        "<!--\n",
        "min,q1,median,q3,max of a column are its five number summary.\n",
        "-->\n"
      ],
      "metadata": {
        "id": "oxdEEfhEwvzf"
      }
    },
    {
      "cell_type": "code",
      "source": [
        "# your code goes here\n",
        "df['Age'].describe()\n"
      ],
      "metadata": {
        "trusted": true,
        "id": "1o3ucXamwvzf",
        "outputId": "4d1fd358-c1bf-4c8c-c4e6-9279d71d33eb"
      },
      "outputs": [
        {
          "execution_count": 13,
          "output_type": "execute_result",
          "data": {
            "text/plain": "count    11111.000000\nmean        30.778895\nstd          7.393686\nmin         16.000000\n25%         25.000000\n50%         29.000000\n75%         35.000000\nmax         99.000000\nName: Age, dtype: float64"
          },
          "metadata": {}
        }
      ],
      "execution_count": null
    },
    {
      "cell_type": "markdown",
      "source": [
        "Plot a histogram of the column `Age`.\n"
      ],
      "metadata": {
        "id": "BDQf4jUjwvzf"
      }
    },
    {
      "cell_type": "code",
      "source": [
        "# your code goes here\n",
        "plt.hist(df['Age'])\n",
        "plt.xlabel('Age')\n",
        "plt.ylabel('Count')\n",
        "plt.title('Histogram for the column Age')\n"
      ],
      "metadata": {
        "trusted": true,
        "id": "S2ZXB1Bowvzg",
        "outputId": "97aecd33-cc36-450c-bf15-abebcce55417"
      },
      "outputs": [
        {
          "execution_count": 20,
          "output_type": "execute_result",
          "data": {
            "text/plain": "Text(0.5, 1.0, 'Histogram for the column Age')"
          },
          "metadata": {}
        },
        {
          "output_type": "display_data",
          "data": {
            "text/plain": "<Figure size 640x480 with 1 Axes>",
            "image/png": "[encoded data removed]"
          },
          "metadata": {}
        }
      ],
      "execution_count": null
    },
    {
      "cell_type": "markdown",
      "source": [
        "## Outliers\n"
      ],
      "metadata": {
        "id": "Kxu90QHqwvzg"
      }
    },
    {
      "cell_type": "markdown",
      "source": [
        "### Finding outliers\n"
      ],
      "metadata": {
        "id": "xIR2EHoOwvzh"
      }
    },
    {
      "cell_type": "markdown",
      "source": [
        "Find out if outliers exist in the column `ConvertedComp` using a box plot?\n"
      ],
      "metadata": {
        "id": "s5Ogeekkwvzh"
      }
    },
    {
      "cell_type": "code",
      "source": [
        "# your code goes here\n",
        "#sns.boxplot(df['ConvertedComp'])\n",
        "sns.boxplot(df['Age'])\n"
      ],
      "metadata": {
        "trusted": true,
        "id": "jehNCTtbwvzh",
        "outputId": "6118fbee-0ece-4fdd-f066-4ceff9b0087d"
      },
      "outputs": [
        {
          "execution_count": 47,
          "output_type": "execute_result",
          "data": {
            "text/plain": "<AxesSubplot:ylabel='Age'>"
          },
          "metadata": {}
        },
        {
          "output_type": "display_data",
          "data": {
            "text/plain": "<Figure size 640x480 with 1 Axes>",
            "image/png": "[encoded data removed]"
          },
          "metadata": {}
        }
      ],
      "execution_count": null
    },
    {
      "cell_type": "markdown",
      "source": [
        "Find out the Inter Quartile Range for the column `ConvertedComp`.\n"
      ],
      "metadata": {
        "id": "DbsE_bltwvzi"
      }
    },
    {
      "cell_type": "code",
      "source": [
        "# your code goes here\n",
        "#IQR (Interquartile Range: 25%, 50% and 75%)\n",
        "\n",
        "IQR = df['ConvertedComp'].quantile(0.75) - df['ConvertedComp'].quantile(0.25)\n",
        "print('IQR = ',IQR)\n",
        "\n",
        "#df['ConvertedComp'].describe()"
      ],
      "metadata": {
        "trusted": true,
        "id": "688LJliawvzi",
        "outputId": "ae7f6eb9-e17a-4e76-b758-95740c2ec4fa"
      },
      "outputs": [
        {
          "name": "stdout",
          "text": "IQR =  73132.0\n",
          "output_type": "stream"
        }
      ],
      "execution_count": null
    },
    {
      "cell_type": "markdown",
      "source": [
        "Find out the upper and lower bounds.\n"
      ],
      "metadata": {
        "id": "SPI974o4wvzj"
      }
    },
    {
      "cell_type": "code",
      "source": [
        "# your code goes here\n",
        "upper_bound = df['ConvertedComp'].quantile(0.75) + 1.5*IQR\n",
        "print('upper bound = ',upper_bound)\n",
        "\n",
        "lower_bound = df['ConvertedComp'].quantile(0.25) - 1.5*IQR\n",
        "print('lower bound = ',lower_bound)"
      ],
      "metadata": {
        "trusted": true,
        "id": "bHW7WwMbwvzj",
        "outputId": "710a04e3-49b9-4bd9-80fd-6eec2b080828"
      },
      "outputs": [
        {
          "name": "stdout",
          "text": "upper bound =  209698.0\nlower bound =  -82830.0\n",
          "output_type": "stream"
        }
      ],
      "execution_count": null
    },
    {
      "cell_type": "markdown",
      "source": [
        "Identify how many outliers are there in the `ConvertedComp` column.\n"
      ],
      "metadata": {
        "id": "GZhNzrjgwvzj"
      }
    },
    {
      "cell_type": "code",
      "source": [
        "# your code goes here\n",
        "\n",
        "outliers = 0\n",
        "for i in df['ConvertedComp']:\n",
        "   if (i < lower_bound) or (i > upper_bound):\n",
        "       outliers = outliers + 1\n",
        "\n",
        "print('Total outliers: ',outliers)\n",
        "\n",
        ""
      ],
      "metadata": {
        "trusted": true,
        "id": "vMGkJ2_0wvzk",
        "outputId": "32baae64-a5e1-4187-d1ae-22ec2afd08da"
      },
      "outputs": [
        {
          "name": "stdout",
          "text": "Total outliers:  879\n",
          "output_type": "stream"
        }
      ],
      "execution_count": null
    },
    {
      "cell_type": "markdown",
      "source": [
        "Create a new dataframe by removing the outliers from the `ConvertedComp` column.\n"
      ],
      "metadata": {
        "id": "76wj8Nfhwvzk"
      }
    },
    {
      "cell_type": "code",
      "source": [
        "# your code goes here\n",
        "out = df[(df.ConvertedComp < lower_bound) | (df.ConvertedComp > upper_bound)].index\n",
        "new_df = df.drop(out)\n",
        "#new_df.shape\n",
        "\n",
        "new_df['ConvertedComp'].mean()\n"
      ],
      "metadata": {
        "trusted": true,
        "id": "DV5Ky2fRwvzk",
        "outputId": "a2985455-ebdd-40e5-f0a3-065b17f792d7"
      },
      "outputs": [
        {
          "execution_count": 48,
          "output_type": "execute_result",
          "data": {
            "text/plain": "59883.20838915799"
          },
          "metadata": {}
        }
      ],
      "execution_count": null
    },
    {
      "cell_type": "markdown",
      "source": [
        "## Correlation\n"
      ],
      "metadata": {
        "id": "udujckbvwvzl"
      }
    },
    {
      "cell_type": "markdown",
      "source": [
        "### Finding correlation\n"
      ],
      "metadata": {
        "id": "ziopZiJUwvzl"
      }
    },
    {
      "cell_type": "markdown",
      "source": [
        "Find the correlation between `Age` and all other numerical columns.\n"
      ],
      "metadata": {
        "id": "Spp4bZPFwvzl"
      }
    },
    {
      "cell_type": "code",
      "source": [
        "# your code goes here\n",
        "df.corr(numeric_only=True)['Age']"
      ],
      "metadata": {
        "trusted": true,
        "id": "3OMLaVwJwvzm",
        "outputId": "1c687220-628c-4d1e-93d7-4ab5ef300212"
      },
      "outputs": [
        {
          "execution_count": 43,
          "output_type": "execute_result",
          "data": {
            "text/plain": "Respondent       0.004041\nCompTotal        0.006970\nConvertedComp    0.105386\nWorkWeekHrs      0.036518\nCodeRevHrs      -0.020469\nAge              1.000000\nName: Age, dtype: float64"
          },
          "metadata": {}
        }
      ],
      "execution_count": null
    },
    {
      "cell_type": "markdown",
      "source": [
        "## Authors\n"
      ],
      "metadata": {
        "id": "IIy5iYNNwvzm"
      }
    },
    {
      "cell_type": "markdown",
      "source": [
        "Ramesh Sannareddy\n"
      ],
      "metadata": {
        "id": "9hfOZ4Mrwvzm"
      }
    },
    {
      "cell_type": "markdown",
      "source": [
        "### Other Contributors\n"
      ],
      "metadata": {
        "id": "lGyeiA0Gwvzn"
      }
    },
    {
      "cell_type": "markdown",
      "source": [
        "Rav Ahuja\n"
      ],
      "metadata": {
        "id": "BTyx4kJnwvzo"
      }
    },
    {
      "cell_type": "markdown",
      "source": [
        " Copyright © 2020 IBM Corporation. This notebook and its source code are released under the terms of the [MIT License](https://cognitiveclass.ai/mit-license?cm_mmc=Email_Newsletter-_-Developer_Ed%2BTech-_-WW_WW-_-SkillsNetwork-Courses-IBM-DA0321EN-SkillsNetwork-21426264&cm_mmca1=000026UJ&cm_mmca2=10006555&cm_mmca3=M12345678&cvosrc=email.Newsletter.M12345678&cvo_campaign=000026UJ&cm_mmc=Email_Newsletter-_-Developer_Ed%2BTech-_-WW_WW-_-SkillsNetwork-Courses-IBM-DA0321EN-SkillsNetwork-21426264&cm_mmca1=000026UJ&cm_mmca2=10006555&cm_mmca3=M12345678&cvosrc=email.Newsletter.M12345678&cvo_campaign=000026UJ&cm_mmc=Email_Newsletter-_-Developer_Ed%2BTech-_-WW_WW-_-SkillsNetwork-Courses-IBM-DA0321EN-SkillsNetwork-21426264&cm_mmca1=000026UJ&cm_mmca2=10006555&cm_mmca3=M12345678&cvosrc=email.Newsletter.M12345678&cvo_campaign=000026UJ&cm_mmc=Email_Newsletter-_-Developer_Ed%2BTech-_-WW_WW-_-SkillsNetwork-Courses-IBM-DA0321EN-SkillsNetwork-21426264&cm_mmca1=000026UJ&cm_mmca2=10006555&cm_mmca3=M12345678&cvosrc=email.Newsletter.M12345678&cvo_campaign=000026UJ).\n"
      ],
      "metadata": {
        "id": "I_L-Ud6lwvzo"
      }
    },
    {
      "cell_type": "markdown",
      "source": [
        "<!--## Change Log\n"
      ],
      "metadata": {
        "id": "FMrti9qQwvzp"
      }
    },
    {
      "cell_type": "markdown",
      "source": [
        "<!--| Date (YYYY-MM-DD) | Version | Changed By        | Change Description                 |\n",
        "| ----------------- | ------- | ----------------- | ---------------------------------- |\n",
        "| 2020-10-17        | 0.1     | Ramesh Sannareddy | Created initial version of the lab |--!>\n"
      ],
      "metadata": {
        "id": "X8Nko5p3wvzp"
      }
    }
  ]
}
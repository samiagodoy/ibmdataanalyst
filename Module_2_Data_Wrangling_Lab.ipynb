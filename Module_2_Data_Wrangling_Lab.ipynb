{
  "metadata": {
    "kernelspec": {
      "name": "python",
      "display_name": "Python (Pyodide)",
      "language": "python"
    },
    "language_info": {
      "codemirror_mode": {
        "name": "python",
        "version": 3
      },
      "file_extension": ".py",
      "mimetype": "text/x-python",
      "name": "python",
      "nbconvert_exporter": "python",
      "pygments_lexer": "ipython3",
      "version": "3.8"
    },
    "prev_pub_hash": "fee3cd0da99af27f7f7a8d9c340e8e78f253ffc32a2251cadcb6968f21d952d5",
    "colab": {
      "provenance": []
    }
  },
  "nbformat_minor": 0,
  "nbformat": 4,
  "cells": [
    {
      "cell_type": "markdown",
      "source": [
        "<p style=\"text-align:center\">\n",
        "    <a href=\"https://skills.network/?utm_medium=Exinfluencer&utm_source=Exinfluencer&utm_content=000026UJ&utm_term=10006555&utm_id=NA-SkillsNetwork-Channel-SkillsNetworkCoursesIBMDA0321ENSkillsNetwork928-2022-01-01\" target=\"_blank\">\n",
        "    <img src=\"https://cf-courses-data.s3.us.cloud-object-storage.appdomain.cloud/assets/logos/SN_web_lightmode.png\" width=\"400\" alt=\"Skills Network Logo\"  />\n",
        "    </a>\n",
        "</p>\n"
      ],
      "metadata": {
        "id": "WwIDhhRKwJRL"
      }
    },
    {
      "cell_type": "markdown",
      "source": [
        "# **Data Wrangling Lab**\n"
      ],
      "metadata": {
        "id": "W2YPpLjkwJRO"
      }
    },
    {
      "cell_type": "markdown",
      "source": [
        "Estimated time needed: **45 to 60** minutes\n"
      ],
      "metadata": {
        "id": "chqRunuawJRO"
      }
    },
    {
      "cell_type": "markdown",
      "source": [
        "In this assignment you will be performing data wrangling.\n"
      ],
      "metadata": {
        "id": "dkGwqBOXwJRP"
      }
    },
    {
      "cell_type": "markdown",
      "source": [
        "## Objectives\n"
      ],
      "metadata": {
        "id": "xCGGKa9jwJRP"
      }
    },
    {
      "cell_type": "markdown",
      "source": [
        "In this lab you will perform the following:\n"
      ],
      "metadata": {
        "id": "IMKOLC3BwJRP"
      }
    },
    {
      "cell_type": "markdown",
      "source": [
        "-   Identify duplicate values in the dataset.\n",
        "\n",
        "-   Remove duplicate values from the dataset.\n",
        "\n",
        "-   Identify missing values in the dataset.\n",
        "\n",
        "-   Impute the missing values in the dataset.\n",
        "\n",
        "-   Normalize data in the dataset.\n"
      ],
      "metadata": {
        "id": "v5Y4HSk-wJRQ"
      }
    },
    {
      "cell_type": "markdown",
      "source": [
        "<hr>\n"
      ],
      "metadata": {
        "id": "aeimb-V4wJRQ"
      }
    },
    {
      "cell_type": "markdown",
      "source": [
        "## Hands on Lab\n"
      ],
      "metadata": {
        "id": "vYuFihnjwJRR"
      }
    },
    {
      "cell_type": "markdown",
      "source": [
        "Import pandas module.\n"
      ],
      "metadata": {
        "id": "hOzOAeNYwJRR"
      }
    },
    {
      "cell_type": "code",
      "source": [
        "import pandas as pd"
      ],
      "metadata": {
        "trusted": true,
        "id": "1zgpw8xawJRR",
        "outputId": "881e7cf1-3653-4575-d65c-fd4d6c38dee7"
      },
      "outputs": [
        {
          "name": "stderr",
          "text": "<ipython-input-1-7dd3504c366f>:1: DeprecationWarning: \nPyarrow will become a required dependency of pandas in the next major release of pandas (pandas 3.0),\n(to allow more performant data types, such as the Arrow string type, and better interoperability with other libraries)\nbut was not found to be installed on your system.\nIf this would cause problems for you,\nplease provide us feedback at https://github.com/pandas-dev/pandas/issues/54466\n        \n  import pandas as pd\n",
          "output_type": "stream"
        }
      ],
      "execution_count": null
    },
    {
      "cell_type": "markdown",
      "source": [
        "Load the dataset into a dataframe.\n"
      ],
      "metadata": {
        "id": "SO90EkJ2wJRU"
      }
    },
    {
      "cell_type": "markdown",
      "source": [
        "<h2>Read Data</h2>\n",
        "<p>\n",
        "We utilize the <code>pandas.read_csv()</code> function for reading CSV files. However, in this version of the lab, which operates on JupyterLite, the dataset needs to be downloaded to the interface using the provided code below.\n",
        "</p>\n"
      ],
      "metadata": {
        "id": "SiIjcDNzwJRU"
      }
    },
    {
      "cell_type": "markdown",
      "source": [
        "The functions below will download the dataset into your browser:\n"
      ],
      "metadata": {
        "id": "tbrPxYaywJRU"
      }
    },
    {
      "cell_type": "code",
      "source": [
        "from pyodide.http import pyfetch\n",
        "\n",
        "async def download(url, filename):\n",
        "    response = await pyfetch(url)\n",
        "    if response.status == 200:\n",
        "        with open(filename, \"wb\") as f:\n",
        "            f.write(await response.bytes())"
      ],
      "metadata": {
        "trusted": true,
        "id": "EF8LVKUVwJRU"
      },
      "outputs": [],
      "execution_count": null
    },
    {
      "cell_type": "code",
      "source": [
        "file_path = \"https://cf-courses-data.s3.us.cloud-object-storage.appdomain.cloud/IBM-DA0321EN-SkillsNetwork/LargeData/m1_survey_data.csv\""
      ],
      "metadata": {
        "trusted": true,
        "id": "tkHIlYu1wJRV"
      },
      "outputs": [],
      "execution_count": null
    },
    {
      "cell_type": "markdown",
      "source": [
        "To obtain the dataset, utilize the download() function as defined above:  \n"
      ],
      "metadata": {
        "id": "HISYe9vCwJRV"
      }
    },
    {
      "cell_type": "code",
      "source": [
        "await download(file_path, \"m1_survey_data.csv\")\n",
        "file_name=\"m1_survey_data.csv\""
      ],
      "metadata": {
        "trusted": true,
        "id": "2w0ZLn-hwJRV"
      },
      "outputs": [],
      "execution_count": null
    },
    {
      "cell_type": "markdown",
      "source": [
        "Utilize the Pandas method read_csv() to load the data into a dataframe.\n"
      ],
      "metadata": {
        "id": "nkFcZaxwwJRV"
      }
    },
    {
      "cell_type": "code",
      "source": [
        "df = pd.read_csv(file_name)"
      ],
      "metadata": {
        "trusted": true,
        "id": "9HaU35kywJRV"
      },
      "outputs": [],
      "execution_count": null
    },
    {
      "cell_type": "markdown",
      "source": [
        "> Note: This version of the lab is working on JupyterLite, which requires the dataset to be downloaded to the interface.While working on the downloaded version of this notebook on their local machines(Jupyter Anaconda), the learners can simply **skip the steps above,** and simply use the URL directly in the `pandas.read_csv()` function. You can uncomment and run the statements in the cell below.\n"
      ],
      "metadata": {
        "id": "iWAITDb_wJRW"
      }
    },
    {
      "cell_type": "code",
      "source": [
        "#df = pd.read_csv(\"https://cf-courses-data.s3.us.cloud-object-storage.appdomain.cloud/IBM-DA0321EN-SkillsNetwork/LargeData/m1_survey_data.csv\")"
      ],
      "metadata": {
        "id": "k-VgLPL1wJRW"
      },
      "outputs": [],
      "execution_count": null
    },
    {
      "cell_type": "markdown",
      "source": [
        "## Finding duplicates\n"
      ],
      "metadata": {
        "id": "8ctL_emUwJRW"
      }
    },
    {
      "cell_type": "markdown",
      "source": [
        "In this section you will identify duplicate values in the dataset.\n"
      ],
      "metadata": {
        "id": "BRUpIZ-VwJRW"
      }
    },
    {
      "cell_type": "markdown",
      "source": [
        " Find how many duplicate rows exist in the dataframe.\n"
      ],
      "metadata": {
        "id": "0Q0otmH4wJRW"
      }
    },
    {
      "cell_type": "code",
      "source": [
        "# your code goes here\n",
        "df.duplicated().value_counts()"
      ],
      "metadata": {
        "trusted": true,
        "id": "Hr8IgTYNwJRW",
        "outputId": "a8c79d84-51f1-4640-8420-23b44554c957"
      },
      "outputs": [
        {
          "execution_count": 6,
          "output_type": "execute_result",
          "data": {
            "text/plain": "False    11398\nTrue       154\nName: count, dtype: int64"
          },
          "metadata": {}
        }
      ],
      "execution_count": null
    },
    {
      "cell_type": "markdown",
      "source": [
        "## Removing duplicates\n"
      ],
      "metadata": {
        "id": "4fq3-sW7wJRX"
      }
    },
    {
      "cell_type": "markdown",
      "source": [
        "Remove the duplicate rows from the dataframe.\n"
      ],
      "metadata": {
        "id": "D9k2WfL7wJRX"
      }
    },
    {
      "cell_type": "code",
      "source": [
        "# your code goes here\n",
        "df.drop_duplicates(inplace=True)"
      ],
      "metadata": {
        "trusted": true,
        "id": "rGoxBpeMwJRX"
      },
      "outputs": [],
      "execution_count": null
    },
    {
      "cell_type": "markdown",
      "source": [
        "Verify if duplicates were actually dropped.\n"
      ],
      "metadata": {
        "id": "ULvAXFbzwJRX"
      }
    },
    {
      "cell_type": "code",
      "source": [
        "# your code goes here\n",
        "df.duplicated().value_counts()"
      ],
      "metadata": {
        "trusted": true,
        "id": "c4D5j6gYwJRX",
        "outputId": "e3d23f02-3ce8-447b-a793-20ecff7dbda5"
      },
      "outputs": [
        {
          "execution_count": 8,
          "output_type": "execute_result",
          "data": {
            "text/plain": "False    11398\nName: count, dtype: int64"
          },
          "metadata": {}
        }
      ],
      "execution_count": null
    },
    {
      "cell_type": "markdown",
      "source": [
        "## Finding Missing values\n"
      ],
      "metadata": {
        "id": "JPgtRMtJwJRX"
      }
    },
    {
      "cell_type": "markdown",
      "source": [
        "Find the missing values for all columns.\n"
      ],
      "metadata": {
        "id": "TeWYlsPWwJRY"
      }
    },
    {
      "cell_type": "code",
      "source": [
        "# your code goes here\n",
        "missing_values=df.isnull()\n",
        "for col in missing_values.columns.values.tolist():\n",
        "    print(missing_values[col].value_counts())\n",
        "    print(\"\")\n",
        ""
      ],
      "metadata": {
        "trusted": true,
        "id": "-qzijAnuwJRY",
        "outputId": "7736615e-e1ce-42eb-c47f-fce9cc3dab38"
      },
      "outputs": [
        {
          "name": "stdout",
          "text": "Respondent\nFalse    11398\nName: count, dtype: int64\n\nMainBranch\nFalse    11398\nName: count, dtype: int64\n\nHobbyist\nFalse    11398\nName: count, dtype: int64\n\nOpenSourcer\nFalse    11398\nName: count, dtype: int64\n\nOpenSource\nFalse    11317\nTrue        81\nName: count, dtype: int64\n\nEmployment\nFalse    11398\nName: count, dtype: int64\n\nCountry\nFalse    11398\nName: count, dtype: int64\n\nStudent\nFalse    11347\nTrue        51\nName: count, dtype: int64\n\nEdLevel\nFalse    11286\nTrue       112\nName: count, dtype: int64\n\nUndergradMajor\nFalse    10661\nTrue       737\nName: count, dtype: int64\n\nEduOther\nFalse    11234\nTrue       164\nName: count, dtype: int64\n\nOrgSize\nFalse    11302\nTrue        96\nName: count, dtype: int64\n\nDevType\nFalse    11333\nTrue        65\nName: count, dtype: int64\n\nYearsCode\nFalse    11389\nTrue         9\nName: count, dtype: int64\n\nAge1stCode\nFalse    11385\nTrue        13\nName: count, dtype: int64\n\nYearsCodePro\nFalse    11382\nTrue        16\nName: count, dtype: int64\n\nCareerSat\nFalse    11398\nName: count, dtype: int64\n\nJobSat\nFalse    11397\nTrue         1\nName: count, dtype: int64\n\nMgrIdiot\nFalse    10905\nTrue       493\nName: count, dtype: int64\n\nMgrMoney\nFalse    10901\nTrue       497\nName: count, dtype: int64\n\nMgrWant\nFalse    10905\nTrue       493\nName: count, dtype: int64\n\nJobSeek\nFalse    11398\nName: count, dtype: int64\n\nLastHireDate\nFalse    11398\nName: count, dtype: int64\n\nLastInt\nFalse    10985\nTrue       413\nName: count, dtype: int64\n\nFizzBuzz\nFalse    11361\nTrue        37\nName: count, dtype: int64\n\nJobFactors\nFalse    11395\nTrue         3\nName: count, dtype: int64\n\nResumeUpdate\nFalse    11359\nTrue        39\nName: count, dtype: int64\n\nCurrencySymbol\nFalse    11398\nName: count, dtype: int64\n\nCurrencyDesc\nFalse    11398\nName: count, dtype: int64\n\nCompTotal\nFalse    10589\nTrue       809\nName: count, dtype: int64\n\nCompFreq\nFalse    11192\nTrue       206\nName: count, dtype: int64\n\nConvertedComp\nFalse    10582\nTrue       816\nName: count, dtype: int64\n\nWorkWeekHrs\nFalse    11276\nTrue       122\nName: count, dtype: int64\n\nWorkPlan\nFalse    11277\nTrue       121\nName: count, dtype: int64\n\nWorkChallenge\nFalse    11234\nTrue       164\nName: count, dtype: int64\n\nWorkRemote\nFalse    11390\nTrue         8\nName: count, dtype: int64\n\nWorkLoc\nFalse    11366\nTrue        32\nName: count, dtype: int64\n\nImpSyn\nFalse    11393\nTrue         5\nName: count, dtype: int64\n\nCodeRev\nFalse    11397\nTrue         1\nName: count, dtype: int64\n\nCodeRevHrs\nFalse    8972\nTrue     2426\nName: count, dtype: int64\n\nUnitTests\nFalse    11369\nTrue        29\nName: count, dtype: int64\n\nPurchaseHow\nFalse    11202\nTrue       196\nName: count, dtype: int64\n\nPurchaseWhat\nFalse    11360\nTrue        38\nName: count, dtype: int64\n\nLanguageWorkedWith\nFalse    11387\nTrue        11\nName: count, dtype: int64\n\nLanguageDesireNextYear\nFalse    11264\nTrue       134\nName: count, dtype: int64\n\nDatabaseWorkedWith\nFalse    10945\nTrue       453\nName: count, dtype: int64\n\nDatabaseDesireNextYear\nFalse    10356\nTrue      1042\nName: count, dtype: int64\n\nPlatformWorkedWith\nFalse    10987\nTrue       411\nName: count, dtype: int64\n\nPlatformDesireNextYear\nFalse    10854\nTrue       544\nName: count, dtype: int64\n\nWebFrameWorkedWith\nFalse    10005\nTrue      1393\nName: count, dtype: int64\n\nWebFrameDesireNextYear\nFalse    9781\nTrue     1617\nName: count, dtype: int64\n\nMiscTechWorkedWith\nFalse    9216\nTrue     2182\nName: count, dtype: int64\n\nMiscTechDesireNextYear\nFalse    9943\nTrue     1455\nName: count, dtype: int64\n\nDevEnviron\nFalse    11369\nTrue        29\nName: count, dtype: int64\n\nOpSys\nFalse    11364\nTrue        34\nName: count, dtype: int64\n\nContainers\nFalse    11316\nTrue        82\nName: count, dtype: int64\n\nBlockchainOrg\nFalse    9076\nTrue     2322\nName: count, dtype: int64\n\nBlockchainIs\nFalse    8788\nTrue     2610\nName: count, dtype: int64\n\nBetterLife\nFalse    11300\nTrue        98\nName: count, dtype: int64\n\nITperson\nFalse    11363\nTrue        35\nName: count, dtype: int64\n\nOffOn\nFalse    11360\nTrue        38\nName: count, dtype: int64\n\nSocialMedia\nFalse    11105\nTrue       293\nName: count, dtype: int64\n\nExtraversion\nFalse    11378\nTrue        20\nName: count, dtype: int64\n\nScreenName\nFalse    10891\nTrue       507\nName: count, dtype: int64\n\nSOVisit1st\nFalse    11073\nTrue       325\nName: count, dtype: int64\n\nSOVisitFreq\nFalse    11393\nTrue         5\nName: count, dtype: int64\n\nSOVisitTo\nFalse    11397\nTrue         1\nName: count, dtype: int64\n\nSOFindAnswer\nFalse    11395\nTrue         3\nName: count, dtype: int64\n\nSOTimeSaved\nFalse    11348\nTrue        50\nName: count, dtype: int64\n\nSOHowMuchTime\nFalse    9481\nTrue     1917\nName: count, dtype: int64\n\nSOAccount\nFalse    11397\nTrue         1\nName: count, dtype: int64\n\nSOPartFreq\nFalse    10270\nTrue      1128\nName: count, dtype: int64\n\nSOJobs\nFalse    11392\nTrue         6\nName: count, dtype: int64\n\nEntTeams\nFalse    11393\nTrue         5\nName: count, dtype: int64\n\nSOComm\nFalse    11398\nName: count, dtype: int64\n\nWelcomeChange\nFalse    11313\nTrue        85\nName: count, dtype: int64\n\nSONewContent\nFalse    9433\nTrue     1965\nName: count, dtype: int64\n\nAge\nFalse    11111\nTrue       287\nName: count, dtype: int64\n\nGender\nFalse    11325\nTrue        73\nName: count, dtype: int64\n\nTrans\nFalse    11275\nTrue       123\nName: count, dtype: int64\n\nSexuality\nFalse    10856\nTrue       542\nName: count, dtype: int64\n\nEthnicity\nFalse    10723\nTrue       675\nName: count, dtype: int64\n\nDependents\nFalse    11258\nTrue       140\nName: count, dtype: int64\n\nSurveyLength\nFalse    11379\nTrue        19\nName: count, dtype: int64\n\nSurveyEase\nFalse    11384\nTrue        14\nName: count, dtype: int64\n\n",
          "output_type": "stream"
        }
      ],
      "execution_count": null
    },
    {
      "cell_type": "markdown",
      "source": [
        "Find out how many rows are missing in the column 'WorkLoc'\n"
      ],
      "metadata": {
        "id": "XyQr28NUwJRY"
      }
    },
    {
      "cell_type": "code",
      "source": [
        "# your code goes here\n",
        "missing_values['WorkLoc'].value_counts()"
      ],
      "metadata": {
        "trusted": true,
        "id": "TcenbN6owJRY",
        "outputId": "cd8eb217-e4f5-4234-ffcf-a522b282a711"
      },
      "outputs": [
        {
          "execution_count": 40,
          "output_type": "execute_result",
          "data": {
            "text/plain": "WorkLoc\nFalse    11366\nTrue        32\nName: count, dtype: int64"
          },
          "metadata": {}
        }
      ],
      "execution_count": null
    },
    {
      "cell_type": "markdown",
      "source": [
        "## Imputing missing values\n"
      ],
      "metadata": {
        "id": "I7YX3m55wJRZ"
      }
    },
    {
      "cell_type": "markdown",
      "source": [
        "Find the  value counts for the column WorkLoc.\n"
      ],
      "metadata": {
        "id": "2WikseedwJRZ"
      }
    },
    {
      "cell_type": "code",
      "source": [
        "# your code goes here\n",
        "df['WorkLoc'].value_counts()"
      ],
      "metadata": {
        "trusted": true,
        "id": "84jRwGeSwJRZ",
        "outputId": "3b1f3737-8676-4908-bd50-7dbe3f499775"
      },
      "outputs": [
        {
          "execution_count": 44,
          "output_type": "execute_result",
          "data": {
            "text/plain": "WorkLoc\nOffice                                            6838\nHome                                              3589\nOther place, such as a coworking space or cafe     971\nName: count, dtype: int64"
          },
          "metadata": {}
        }
      ],
      "execution_count": null
    },
    {
      "cell_type": "markdown",
      "source": [
        "Identify the value that is most frequent (majority) in the WorkLoc column.\n"
      ],
      "metadata": {
        "id": "KhMLBO_cwJR0"
      }
    },
    {
      "cell_type": "code",
      "source": [
        "#make a note of the majority value here, for future reference\n",
        "#Office has the highest value\n"
      ],
      "metadata": {
        "id": "pnfSi2vYwJR0"
      },
      "outputs": [],
      "execution_count": null
    },
    {
      "cell_type": "markdown",
      "source": [
        "Impute (replace) all the empty rows in the column WorkLoc with the value that you have identified as majority.\n"
      ],
      "metadata": {
        "id": "xXmkqKHmwJR0"
      }
    },
    {
      "cell_type": "code",
      "source": [
        "# your code goes here\n",
        "#df['WorkLoc'].fillna('Office', inplace=True)\n",
        "#try using 'df.method({col: value}, inplace=True)' or df[col] = df[col].method(value) instead\n",
        "df['WorkLoc'] = df['WorkLoc'].fillna(\"Office\")\n"
      ],
      "metadata": {
        "trusted": true,
        "id": "Quo-j0mXwJR1"
      },
      "outputs": [],
      "execution_count": null
    },
    {
      "cell_type": "markdown",
      "source": [
        "After imputation there should ideally not be any empty rows in the WorkLoc column.\n"
      ],
      "metadata": {
        "id": "PbDEa3JEwJR1"
      }
    },
    {
      "cell_type": "markdown",
      "source": [
        "Verify if imputing was successful.\n"
      ],
      "metadata": {
        "id": "Sta_J9rJwJR1"
      }
    },
    {
      "cell_type": "code",
      "source": [
        "# your code goes here\n",
        "df['WorkLoc'].isnull().value_counts()\n"
      ],
      "metadata": {
        "trusted": true,
        "id": "Yu6gTQIiwJR2",
        "outputId": "eb7a89bf-584c-4a0f-9331-c052549437f5"
      },
      "outputs": [
        {
          "execution_count": 52,
          "output_type": "execute_result",
          "data": {
            "text/plain": "WorkLoc\nFalse    11398\nName: count, dtype: int64"
          },
          "metadata": {}
        }
      ],
      "execution_count": null
    },
    {
      "cell_type": "markdown",
      "source": [
        "## Normalizing data\n"
      ],
      "metadata": {
        "id": "DRArOaIxwJR2"
      }
    },
    {
      "cell_type": "markdown",
      "source": [
        "There are two columns in the dataset that talk about compensation.\n",
        "\n",
        "One is \"CompFreq\". This column shows how often a developer is paid (Yearly, Monthly, Weekly).\n",
        "\n",
        "The other is \"CompTotal\". This column talks about how much the developer is paid per Year, Month, or Week depending upon his/her \"CompFreq\".\n",
        "\n",
        "This makes it difficult to compare the total compensation of the developers.\n",
        "\n",
        "In this section you will create a new column called 'NormalizedAnnualCompensation' which contains the 'Annual Compensation' irrespective of the 'CompFreq'.\n",
        "\n",
        "Once this column is ready, it makes comparison of salaries easy.\n"
      ],
      "metadata": {
        "id": "16SH0bTLwJR2"
      }
    },
    {
      "cell_type": "markdown",
      "source": [
        "<hr>\n"
      ],
      "metadata": {
        "id": "NJxJUgRawJR3"
      }
    },
    {
      "cell_type": "markdown",
      "source": [
        "List out the various categories in the column 'CompFreq'\n"
      ],
      "metadata": {
        "id": "TGACTBWcwJR3"
      }
    },
    {
      "cell_type": "code",
      "source": [
        "# your code goes here\n",
        "df['CompFreq'].value_counts()\n"
      ],
      "metadata": {
        "trusted": true,
        "id": "71lBzlLXwJR3",
        "outputId": "0c954e01-4508-4480-94cc-1f6edcf15aa7"
      },
      "outputs": [
        {
          "execution_count": 57,
          "output_type": "execute_result",
          "data": {
            "text/plain": "CompFreq\nYearly     6073\nMonthly    4788\nWeekly      331\nName: count, dtype: int64"
          },
          "metadata": {}
        }
      ],
      "execution_count": null
    },
    {
      "cell_type": "markdown",
      "source": [
        "Create a new column named 'NormalizedAnnualCompensation'. Use the hint given below if needed.\n"
      ],
      "metadata": {
        "id": "PqfMXVrUwJR3"
      }
    },
    {
      "cell_type": "markdown",
      "source": [
        "Double click to see the **Hint**.\n",
        "\n",
        "<!--\n",
        "\n",
        "Use the below logic to arrive at the values for the column NormalizedAnnualCompensation.\n",
        "\n",
        "If the CompFreq is Yearly then use the exising value in CompTotal\n",
        "If the CompFreq is Monthly then multiply the value in CompTotal with 12 (months in an year)\n",
        "If the CompFreq is Weekly then multiply the value in CompTotal with 52 (weeks in an year)\n",
        "\n",
        "-->\n"
      ],
      "metadata": {
        "id": "l9Cg7IViwJR4"
      }
    },
    {
      "cell_type": "code",
      "source": [
        "# your code goes here\n",
        "\n",
        "compensation=[]\n",
        "\n",
        "for i in range(len(df)):\n",
        "    if(df['CompFreq'].iloc[i] == 'Yearly'):\n",
        "        compensation.append(df['CompTotal'].iloc[i])\n",
        "    elif(df['CompFreq'].iloc[i] =='Monthly'):\n",
        "        compensation.append((df['CompTotal'].iloc[i])*12)\n",
        "    elif(df['CompFreq'].iloc[i]=='Weekly'):\n",
        "        compensation.append((df['CompTotal'].iloc[i])*52)\n",
        "\n",
        "\n",
        "\n",
        "df['NormalizedAnnualCompensation'] = pd.Series(compensation)\n",
        "df.head()\n",
        "\n",
        "\n",
        "\n",
        "\n",
        "\n"
      ],
      "metadata": {
        "trusted": true,
        "id": "h-_gqz1XwJR4",
        "outputId": "21d95f50-a48d-4a1e-9bab-51761d5eb235"
      },
      "outputs": [
        {
          "execution_count": 65,
          "output_type": "execute_result",
          "data": {
            "text/plain": "   Respondent                      MainBranch Hobbyist  \\\n0           4  I am a developer by profession       No   \n1           9  I am a developer by profession      Yes   \n2          13  I am a developer by profession      Yes   \n3          16  I am a developer by profession      Yes   \n4          17  I am a developer by profession      Yes   \n\n                                         OpenSourcer  \\\n0                                              Never   \n1                         Once a month or more often   \n2  Less than once a month but more than once per ...   \n3                                              Never   \n4  Less than once a month but more than once per ...   \n\n                                          OpenSource          Employment  \\\n0  The quality of OSS and closed source software ...  Employed full-time   \n1  The quality of OSS and closed source software ...  Employed full-time   \n2  OSS is, on average, of HIGHER quality than pro...  Employed full-time   \n3  The quality of OSS and closed source software ...  Employed full-time   \n4  The quality of OSS and closed source software ...  Employed full-time   \n\n          Country Student                                            EdLevel  \\\n0   United States      No           Bachelor’s degree (BA, BS, B.Eng., etc.)   \n1     New Zealand      No  Some college/university study without earning ...   \n2   United States      No        Master’s degree (MA, MS, M.Eng., MBA, etc.)   \n3  United Kingdom      No        Master’s degree (MA, MS, M.Eng., MBA, etc.)   \n4       Australia      No           Bachelor’s degree (BA, BS, B.Eng., etc.)   \n\n                                      UndergradMajor  ...  \\\n0  Computer science, computer engineering, or sof...  ...   \n1  Computer science, computer engineering, or sof...  ...   \n2  Computer science, computer engineering, or sof...  ...   \n3                                                NaN  ...   \n4  Computer science, computer engineering, or sof...  ...   \n\n                                        SONewContent   Age Gender Trans  \\\n0  Tech articles written by other developers;Indu...  22.0    Man    No   \n1                                                NaN  23.0    Man    No   \n2  Tech articles written by other developers;Cour...  28.0    Man    No   \n3  Tech articles written by other developers;Indu...  26.0    Man    No   \n4  Tech articles written by other developers;Indu...  29.0    Man    No   \n\n                 Sexuality                              Ethnicity Dependents  \\\n0  Straight / Heterosexual           White or of European descent         No   \n1                 Bisexual           White or of European descent         No   \n2  Straight / Heterosexual           White or of European descent        Yes   \n3  Straight / Heterosexual           White or of European descent         No   \n4  Straight / Heterosexual  Hispanic or Latino/Latina;Multiracial         No   \n\n            SurveyLength                  SurveyEase  \\\n0  Appropriate in length                        Easy   \n1  Appropriate in length  Neither easy nor difficult   \n2  Appropriate in length                        Easy   \n3  Appropriate in length  Neither easy nor difficult   \n4  Appropriate in length                        Easy   \n\n  NormalizedAnnualCompensation  \n0                      61000.0  \n1                     138000.0  \n2                      90000.0  \n3                     348000.0  \n4                      90000.0  \n\n[5 rows x 86 columns]",
            "text/html": "<div>\n<style scoped>\n    .dataframe tbody tr th:only-of-type {\n        vertical-align: middle;\n    }\n\n    .dataframe tbody tr th {\n        vertical-align: top;\n    }\n\n    .dataframe thead th {\n        text-align: right;\n    }\n</style>\n<table border=\"1\" class=\"dataframe\">\n  <thead>\n    <tr style=\"text-align: right;\">\n      <th></th>\n      <th>Respondent</th>\n      <th>MainBranch</th>\n      <th>Hobbyist</th>\n      <th>OpenSourcer</th>\n      <th>OpenSource</th>\n      <th>Employment</th>\n      <th>Country</th>\n      <th>Student</th>\n      <th>EdLevel</th>\n      <th>UndergradMajor</th>\n      <th>...</th>\n      <th>SONewContent</th>\n      <th>Age</th>\n      <th>Gender</th>\n      <th>Trans</th>\n      <th>Sexuality</th>\n      <th>Ethnicity</th>\n      <th>Dependents</th>\n      <th>SurveyLength</th>\n      <th>SurveyEase</th>\n      <th>NormalizedAnnualCompensation</th>\n    </tr>\n  </thead>\n  <tbody>\n    <tr>\n      <th>0</th>\n      <td>4</td>\n      <td>I am a developer by profession</td>\n      <td>No</td>\n      <td>Never</td>\n      <td>The quality of OSS and closed source software ...</td>\n      <td>Employed full-time</td>\n      <td>United States</td>\n      <td>No</td>\n      <td>Bachelor’s degree (BA, BS, B.Eng., etc.)</td>\n      <td>Computer science, computer engineering, or sof...</td>\n      <td>...</td>\n      <td>Tech articles written by other developers;Indu...</td>\n      <td>22.0</td>\n      <td>Man</td>\n      <td>No</td>\n      <td>Straight / Heterosexual</td>\n      <td>White or of European descent</td>\n      <td>No</td>\n      <td>Appropriate in length</td>\n      <td>Easy</td>\n      <td>61000.0</td>\n    </tr>\n    <tr>\n      <th>1</th>\n      <td>9</td>\n      <td>I am a developer by profession</td>\n      <td>Yes</td>\n      <td>Once a month or more often</td>\n      <td>The quality of OSS and closed source software ...</td>\n      <td>Employed full-time</td>\n      <td>New Zealand</td>\n      <td>No</td>\n      <td>Some college/university study without earning ...</td>\n      <td>Computer science, computer engineering, or sof...</td>\n      <td>...</td>\n      <td>NaN</td>\n      <td>23.0</td>\n      <td>Man</td>\n      <td>No</td>\n      <td>Bisexual</td>\n      <td>White or of European descent</td>\n      <td>No</td>\n      <td>Appropriate in length</td>\n      <td>Neither easy nor difficult</td>\n      <td>138000.0</td>\n    </tr>\n    <tr>\n      <th>2</th>\n      <td>13</td>\n      <td>I am a developer by profession</td>\n      <td>Yes</td>\n      <td>Less than once a month but more than once per ...</td>\n      <td>OSS is, on average, of HIGHER quality than pro...</td>\n      <td>Employed full-time</td>\n      <td>United States</td>\n      <td>No</td>\n      <td>Master’s degree (MA, MS, M.Eng., MBA, etc.)</td>\n      <td>Computer science, computer engineering, or sof...</td>\n      <td>...</td>\n      <td>Tech articles written by other developers;Cour...</td>\n      <td>28.0</td>\n      <td>Man</td>\n      <td>No</td>\n      <td>Straight / Heterosexual</td>\n      <td>White or of European descent</td>\n      <td>Yes</td>\n      <td>Appropriate in length</td>\n      <td>Easy</td>\n      <td>90000.0</td>\n    </tr>\n    <tr>\n      <th>3</th>\n      <td>16</td>\n      <td>I am a developer by profession</td>\n      <td>Yes</td>\n      <td>Never</td>\n      <td>The quality of OSS and closed source software ...</td>\n      <td>Employed full-time</td>\n      <td>United Kingdom</td>\n      <td>No</td>\n      <td>Master’s degree (MA, MS, M.Eng., MBA, etc.)</td>\n      <td>NaN</td>\n      <td>...</td>\n      <td>Tech articles written by other developers;Indu...</td>\n      <td>26.0</td>\n      <td>Man</td>\n      <td>No</td>\n      <td>Straight / Heterosexual</td>\n      <td>White or of European descent</td>\n      <td>No</td>\n      <td>Appropriate in length</td>\n      <td>Neither easy nor difficult</td>\n      <td>348000.0</td>\n    </tr>\n    <tr>\n      <th>4</th>\n      <td>17</td>\n      <td>I am a developer by profession</td>\n      <td>Yes</td>\n      <td>Less than once a month but more than once per ...</td>\n      <td>The quality of OSS and closed source software ...</td>\n      <td>Employed full-time</td>\n      <td>Australia</td>\n      <td>No</td>\n      <td>Bachelor’s degree (BA, BS, B.Eng., etc.)</td>\n      <td>Computer science, computer engineering, or sof...</td>\n      <td>...</td>\n      <td>Tech articles written by other developers;Indu...</td>\n      <td>29.0</td>\n      <td>Man</td>\n      <td>No</td>\n      <td>Straight / Heterosexual</td>\n      <td>Hispanic or Latino/Latina;Multiracial</td>\n      <td>No</td>\n      <td>Appropriate in length</td>\n      <td>Easy</td>\n      <td>90000.0</td>\n    </tr>\n  </tbody>\n</table>\n<p>5 rows × 86 columns</p>\n</div>"
          },
          "metadata": {}
        }
      ],
      "execution_count": null
    },
    {
      "cell_type": "markdown",
      "source": [
        "## Authors\n"
      ],
      "metadata": {
        "id": "ag0F6SRFwJR4"
      }
    },
    {
      "cell_type": "markdown",
      "source": [
        "Ramesh Sannareddy\n"
      ],
      "metadata": {
        "id": "ETkRv6rIwJR4"
      }
    },
    {
      "cell_type": "markdown",
      "source": [
        "### Other Contributors\n"
      ],
      "metadata": {
        "id": "sLAZ4ZECwJR5"
      }
    },
    {
      "cell_type": "markdown",
      "source": [
        "Rav Ahuja\n"
      ],
      "metadata": {
        "id": "hA9kYmTcwJR5"
      }
    },
    {
      "cell_type": "markdown",
      "source": [
        " ## Change Log\n"
      ],
      "metadata": {
        "id": "EO6yx8_GwJR5"
      }
    },
    {
      "cell_type": "markdown",
      "source": [
        "|Date (YYYY-MM-DD)|Version|Changed By|Change Description|\n",
        "|-|-|-|-|\n",
        "|2024-09-24|1.1|Madhusudhan Moole|Updated lab|\n",
        "|2024-09-23|1.0|Raghul Ramesh|Created lab|\n"
      ],
      "metadata": {
        "id": "ayH8fhwTwJR5"
      }
    },
    {
      "cell_type": "markdown",
      "source": [
        "<!--| Date (YYYY-MM-DD) | Version | Changed By        | Change Description                 |\n",
        "| ----------------- | ------- | ----------------- | ---------------------------------- |\n",
        "| 2020-10-17        | 0.1     | Ramesh Sannareddy | Created initial version of the lab |--!>\n"
      ],
      "metadata": {
        "id": "f03OdPLFwJR5"
      }
    },
    {
      "cell_type": "markdown",
      "source": [
        "## <h3 align=\"center\"> © IBM Corporation. All rights reserved. <h3/>\n"
      ],
      "metadata": {
        "id": "qA_N3hYIwJR6"
      }
    },
    {
      "cell_type": "code",
      "source": [],
      "metadata": {
        "id": "cDeldyOVwJR6"
      },
      "outputs": [],
      "execution_count": null
    }
  ]
}
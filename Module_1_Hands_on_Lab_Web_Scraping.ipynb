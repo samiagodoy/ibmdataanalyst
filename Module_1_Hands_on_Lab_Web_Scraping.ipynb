{
  "cells": [
    {
      "cell_type": "markdown",
      "metadata": {
        "id": "xagE_Kpatwwy"
      },
      "source": [
        "<p style=\"text-align:center\">\n",
        "    <a href=\"https://skills.network/?utm_medium=Exinfluencer&utm_source=Exinfluencer&utm_content=000026UJ&utm_term=10006555&utm_id=NA-SkillsNetwork-Channel-SkillsNetworkCoursesIBMDA0321ENSkillsNetwork928-2022-01-01\" target=\"_blank\">\n",
        "    <img src=\"https://cf-courses-data.s3.us.cloud-object-storage.appdomain.cloud/assets/logos/SN_web_lightmode.png\" width=\"200\" alt=\"Skills Network Logo\"  />\n",
        "    </a>\n",
        "</p>\n"
      ]
    },
    {
      "cell_type": "markdown",
      "metadata": {
        "id": "ULM1wOXbtww0"
      },
      "source": [
        "# **Hands-on Lab : Web Scraping**\n"
      ]
    },
    {
      "cell_type": "markdown",
      "metadata": {
        "id": "GxsSWJRftww0"
      },
      "source": [
        "Estimated time needed: **30 to 45** minutes\n"
      ]
    },
    {
      "cell_type": "markdown",
      "metadata": {
        "id": "9k5PKw2Ltww1"
      },
      "source": [
        "## Objectives\n"
      ]
    },
    {
      "cell_type": "markdown",
      "metadata": {
        "id": "-ipaVEgCtww1"
      },
      "source": [
        "In this lab you will perform the following:\n"
      ]
    },
    {
      "cell_type": "markdown",
      "metadata": {
        "id": "jH-m6BFatww1"
      },
      "source": [
        "* Extract information from a given web site\n",
        "* Write the scraped data into a csv file.\n"
      ]
    },
    {
      "cell_type": "markdown",
      "metadata": {
        "id": "LJG8yItItww2"
      },
      "source": [
        "## Extract information from the given web site\n",
        "You will extract the data from the below web site: <br>\n"
      ]
    },
    {
      "cell_type": "code",
      "execution_count": null,
      "metadata": {
        "tags": [],
        "id": "uKmx1zdCtww2"
      },
      "outputs": [],
      "source": [
        "#this url contains the data you need to scrape\n",
        "url = \"https://cf-courses-data.s3.us.cloud-object-storage.appdomain.cloud/IBM-DA0321EN-SkillsNetwork/labs/datasets/Programming_Languages.html\""
      ]
    },
    {
      "cell_type": "markdown",
      "metadata": {
        "id": "yvJLsFGntww3"
      },
      "source": [
        "The data you need to scrape is the **name of the programming language** and **average annual salary**.<br> It is a good idea to open the url in your web broswer and study the contents of the web page before you start to scrape.\n"
      ]
    },
    {
      "cell_type": "markdown",
      "metadata": {
        "id": "QxTMaMc_tww4"
      },
      "source": [
        "Import the required libraries\n"
      ]
    },
    {
      "cell_type": "code",
      "execution_count": null,
      "metadata": {
        "tags": [],
        "id": "_YkECclLtww4"
      },
      "outputs": [],
      "source": [
        "# Your code here\n",
        "from bs4 import BeautifulSoup\n",
        "import pandas as pd\n",
        "import requests"
      ]
    },
    {
      "cell_type": "markdown",
      "metadata": {
        "id": "N95ppFdLtww4"
      },
      "source": [
        "Download the webpage at the url\n"
      ]
    },
    {
      "cell_type": "code",
      "execution_count": null,
      "metadata": {
        "tags": [],
        "id": "AkflcKVZtww5"
      },
      "outputs": [],
      "source": [
        "#your code goes here\n",
        "data  = requests.get(url).text"
      ]
    },
    {
      "cell_type": "markdown",
      "metadata": {
        "id": "CNHi4FpVtww5"
      },
      "source": [
        "Create a soup object\n"
      ]
    },
    {
      "cell_type": "code",
      "execution_count": null,
      "metadata": {
        "tags": [],
        "id": "mzW6WHlntww5"
      },
      "outputs": [],
      "source": [
        "#your code goes here\n",
        "soup = BeautifulSoup(data,\"html.parser\")\n",
        "table = soup.find('table')\n",
        "languages = []"
      ]
    },
    {
      "cell_type": "markdown",
      "metadata": {
        "id": "HmKgw_y8tww6"
      },
      "source": [
        "Scrape the `Language name` and `annual average salary`.\n"
      ]
    },
    {
      "cell_type": "code",
      "execution_count": null,
      "metadata": {
        "tags": [],
        "id": "VQYzY8_Utww6",
        "outputId": "c0981989-dae2-4521-d280-6bbcba1d407c"
      },
      "outputs": [
        {
          "data": {
            "text/plain": [
              "['Language,Average Annual Salary',\n",
              " 'Python,$114383',\n",
              " 'Java,$101013',\n",
              " 'R,$92037',\n",
              " 'Javascript,$110981',\n",
              " 'Swift,$130801',\n",
              " 'C++,$113865',\n",
              " 'C#,$88726',\n",
              " 'PHP,$84727',\n",
              " 'SQL,$84793',\n",
              " 'Go,$94082']"
            ]
          },
          "execution_count": 5,
          "metadata": {},
          "output_type": "execute_result"
        }
      ],
      "source": [
        "#your code goes here\n",
        "for row in table.find_all('tr'): # in html table row is represented by the tag <tr>\n",
        "    # Get all columns in each row.\n",
        "    cols = row.find_all('td') # in html a column is represented by the tag <td>\n",
        "    language_name = cols[1].getText() # store the value in column 2\n",
        "    annual_avg_salary = cols[3].getText() # store the value in column 4\n",
        "    languages.append(language_name +','+ str(annual_avg_salary).replace(',',''))\n",
        "\n",
        "\n",
        "\n",
        "languages"
      ]
    },
    {
      "cell_type": "markdown",
      "metadata": {
        "id": "zZeCKK6Ztww7"
      },
      "source": [
        "Save the scrapped data into a file named *popular-languages.csv*\n"
      ]
    },
    {
      "cell_type": "code",
      "execution_count": null,
      "metadata": {
        "tags": [],
        "id": "qHDpIX_Ntww7",
        "outputId": "956958e1-5ae8-4642-be49-0e0e5b0d925d"
      },
      "outputs": [
        {
          "data": {
            "text/html": [
              "<div>\n",
              "<style scoped>\n",
              "    .dataframe tbody tr th:only-of-type {\n",
              "        vertical-align: middle;\n",
              "    }\n",
              "\n",
              "    .dataframe tbody tr th {\n",
              "        vertical-align: top;\n",
              "    }\n",
              "\n",
              "    .dataframe thead th {\n",
              "        text-align: right;\n",
              "    }\n",
              "</style>\n",
              "<table border=\"1\" class=\"dataframe\">\n",
              "  <thead>\n",
              "    <tr style=\"text-align: right;\">\n",
              "      <th></th>\n",
              "      <th>Language</th>\n",
              "      <th>Average Annual Salary</th>\n",
              "    </tr>\n",
              "  </thead>\n",
              "  <tbody>\n",
              "    <tr>\n",
              "      <th>Python</th>\n",
              "      <td>$114</td>\n",
              "      <td>383.0</td>\n",
              "    </tr>\n",
              "    <tr>\n",
              "      <th>Java</th>\n",
              "      <td>$101</td>\n",
              "      <td>13.0</td>\n",
              "    </tr>\n",
              "    <tr>\n",
              "      <th>R</th>\n",
              "      <td>$92</td>\n",
              "      <td>37.0</td>\n",
              "    </tr>\n",
              "    <tr>\n",
              "      <th>Javascript</th>\n",
              "      <td>$110</td>\n",
              "      <td>981.0</td>\n",
              "    </tr>\n",
              "    <tr>\n",
              "      <th>Swift</th>\n",
              "      <td>$130</td>\n",
              "      <td>801.0</td>\n",
              "    </tr>\n",
              "    <tr>\n",
              "      <th>C++</th>\n",
              "      <td>$113</td>\n",
              "      <td>865.0</td>\n",
              "    </tr>\n",
              "    <tr>\n",
              "      <th>C#</th>\n",
              "      <td>$88</td>\n",
              "      <td>726.0</td>\n",
              "    </tr>\n",
              "    <tr>\n",
              "      <th>PHP</th>\n",
              "      <td>$84</td>\n",
              "      <td>727.0</td>\n",
              "    </tr>\n",
              "    <tr>\n",
              "      <th>SQL</th>\n",
              "      <td>$84</td>\n",
              "      <td>793.0</td>\n",
              "    </tr>\n",
              "    <tr>\n",
              "      <th>Go</th>\n",
              "      <td>$94</td>\n",
              "      <td>82.0</td>\n",
              "    </tr>\n",
              "    <tr>\n",
              "      <th>Language</th>\n",
              "      <td>Average Annual Salary</td>\n",
              "      <td>NaN</td>\n",
              "    </tr>\n",
              "    <tr>\n",
              "      <th>Python</th>\n",
              "      <td>$114383</td>\n",
              "      <td>NaN</td>\n",
              "    </tr>\n",
              "    <tr>\n",
              "      <th>Java</th>\n",
              "      <td>$101013</td>\n",
              "      <td>NaN</td>\n",
              "    </tr>\n",
              "    <tr>\n",
              "      <th>R</th>\n",
              "      <td>$92037</td>\n",
              "      <td>NaN</td>\n",
              "    </tr>\n",
              "    <tr>\n",
              "      <th>Javascript</th>\n",
              "      <td>$110981</td>\n",
              "      <td>NaN</td>\n",
              "    </tr>\n",
              "    <tr>\n",
              "      <th>Swift</th>\n",
              "      <td>$130801</td>\n",
              "      <td>NaN</td>\n",
              "    </tr>\n",
              "    <tr>\n",
              "      <th>C++</th>\n",
              "      <td>$113865</td>\n",
              "      <td>NaN</td>\n",
              "    </tr>\n",
              "    <tr>\n",
              "      <th>C#</th>\n",
              "      <td>$88726</td>\n",
              "      <td>NaN</td>\n",
              "    </tr>\n",
              "    <tr>\n",
              "      <th>PHP</th>\n",
              "      <td>$84727</td>\n",
              "      <td>NaN</td>\n",
              "    </tr>\n",
              "    <tr>\n",
              "      <th>SQL</th>\n",
              "      <td>$84793</td>\n",
              "      <td>NaN</td>\n",
              "    </tr>\n",
              "    <tr>\n",
              "      <th>Go</th>\n",
              "      <td>$94082</td>\n",
              "      <td>NaN</td>\n",
              "    </tr>\n",
              "  </tbody>\n",
              "</table>\n",
              "</div>"
            ],
            "text/plain": [
              "                         Language  Average Annual Salary\n",
              "Python                       $114                  383.0\n",
              "Java                         $101                   13.0\n",
              "R                             $92                   37.0\n",
              "Javascript                   $110                  981.0\n",
              "Swift                        $130                  801.0\n",
              "C++                          $113                  865.0\n",
              "C#                            $88                  726.0\n",
              "PHP                           $84                  727.0\n",
              "SQL                           $84                  793.0\n",
              "Go                            $94                   82.0\n",
              "Language    Average Annual Salary                    NaN\n",
              "Python                    $114383                    NaN\n",
              "Java                      $101013                    NaN\n",
              "R                          $92037                    NaN\n",
              "Javascript                $110981                    NaN\n",
              "Swift                     $130801                    NaN\n",
              "C++                       $113865                    NaN\n",
              "C#                         $88726                    NaN\n",
              "PHP                        $84727                    NaN\n",
              "SQL                        $84793                    NaN\n",
              "Go                         $94082                    NaN"
            ]
          },
          "execution_count": 10,
          "metadata": {},
          "output_type": "execute_result"
        }
      ],
      "source": [
        "# your code goes here\n",
        "df = pd.DataFrame(languages)\n",
        "df.to_csv('popular-languages.csv', header= False, index=False, encoding='utf-8', sep='\\t')\n",
        "pd.read_csv('popular-languages.csv')"
      ]
    },
    {
      "cell_type": "markdown",
      "metadata": {
        "id": "luMrI5_htww7"
      },
      "source": [
        "## Authors\n"
      ]
    },
    {
      "cell_type": "markdown",
      "metadata": {
        "id": "TiZcgapxtww8"
      },
      "source": [
        "Ramesh Sannareddy\n"
      ]
    },
    {
      "cell_type": "markdown",
      "metadata": {
        "id": "k2mKyO68tww8"
      },
      "source": [
        "### Other Contributors\n"
      ]
    },
    {
      "cell_type": "markdown",
      "metadata": {
        "id": "mZxZJsC8tww8"
      },
      "source": [
        "Rav Ahuja\n"
      ]
    },
    {
      "cell_type": "markdown",
      "metadata": {
        "id": "YnoyVpr1tww8"
      },
      "source": [
        "## Change Log\n"
      ]
    },
    {
      "cell_type": "markdown",
      "metadata": {
        "id": "8yyylH0Btww8"
      },
      "source": [
        "|  Date (YYYY-MM-DD) |  Version | Changed By  |  Change Description |\n",
        "|---|---|---|---|\n",
        "| 2020-10-17  | 0.1  | Ramesh Sannareddy  |  Created initial version of the lab |\n"
      ]
    },
    {
      "cell_type": "markdown",
      "metadata": {
        "id": "EKR1v_WGtww9"
      },
      "source": [
        " Copyright &copy; 2020 IBM Corporation. This notebook and its source code are released under the terms of the [MIT License](https://cognitiveclass.ai/mit-license/?utm_medium=Exinfluencer&utm_source=Exinfluencer&utm_content=000026UJ&utm_term=10006555&utm_id=NA-SkillsNetwork-Channel-SkillsNetworkCoursesIBMDA0321ENSkillsNetwork928-2022-01-01).\n"
      ]
    }
  ],
  "metadata": {
    "kernelspec": {
      "display_name": "Python",
      "language": "python",
      "name": "conda-env-python-py"
    },
    "language_info": {
      "codemirror_mode": {
        "name": "ipython",
        "version": 3
      },
      "file_extension": ".py",
      "mimetype": "text/x-python",
      "name": "python",
      "nbconvert_exporter": "python",
      "pygments_lexer": "ipython3",
      "version": "3.7.12"
    },
    "colab": {
      "provenance": []
    }
  },
  "nbformat": 4,
  "nbformat_minor": 0
}